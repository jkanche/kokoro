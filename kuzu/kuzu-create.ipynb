{
 "cells": [
  {
   "cell_type": "code",
   "execution_count": 1,
   "id": "5bf5059f-347c-4665-aea1-d2bf406cd51b",
   "metadata": {},
   "outputs": [],
   "source": [
    "import json\n",
    "import pandas as pd\n",
    "import kuzu\n",
    "import numpy as np\n",
    "import hashlib"
   ]
  },
  {
   "cell_type": "code",
   "execution_count": 2,
   "id": "0cb64834-6bde-48e7-badd-1c19cecb6095",
   "metadata": {},
   "outputs": [],
   "source": [
    "def convert_to_hex(text):\n",
    "    return \"\".join(hex(ord(c)) for c in text).encode()\n",
    "\n",
    "def node_hash(node):\n",
    "    return hashlib.md5(json.dumps(node).encode(\"utf-8\")).hexdigest()"
   ]
  },
  {
   "cell_type": "code",
   "execution_count": 3,
   "id": "638828e7-4311-4835-ab9c-35056a36c9b7",
   "metadata": {
    "tags": []
   },
   "outputs": [],
   "source": [
    "def parse_ontology(file, source, version):\n",
    "    onto = json.load(open(file, \"r\"))\n",
    "\n",
    "    sources = []\n",
    "    nodes = []\n",
    "    source_rels = []\n",
    "    child_rels = []\n",
    "    parent_rels = []\n",
    "\n",
    "    src_hashed = node_hash(f\"{source}_{version}\")\n",
    "    sources.append({ \"name\": f\"{source}\", \"version\": f\"{version}\", \"node_id\": src_hashed})\n",
    "    all_node_ids = []\n",
    "\n",
    "    for graph in onto[\"graphs\"]:\n",
    "\n",
    "        for node in graph[\"nodes\"]:\n",
    "            if \"type\" in node and node[\"type\"].lower() == \"class\":\n",
    "                r = {\n",
    "                    \"id\": node[\"id\"].split(\"/\")[-1].replace(\"_\", \":\")\n",
    "                    if \"/\" in node[\"id\"]\n",
    "                    else node[\"id\"].replace(\"_\", \":\"),\n",
    "                    \"name\": node[\"lbl\"] if \"lbl\" in node else \"\",\n",
    "                    \"definition\": \"\",\n",
    "                    \"namespace\": [],\n",
    "                    \"deprecated\": False,\n",
    "                    \"synonyms\": [],\n",
    "                    \"synonyms_xrefs\": [],\n",
    "                    \"xrefs\": [],\n",
    "                    \"alternative_ids\": [],\n",
    "                }\n",
    "\n",
    "                if \"meta\" in node:\n",
    "                    # get namespace/ term entity type\n",
    "                    if \"basicPropertyValues\" in node[\"meta\"]:\n",
    "                        for bprop in node[\"meta\"][\"basicPropertyValues\"]:\n",
    "                            if (\n",
    "                                bprop[\"pred\"].endswith(\"OBONamespace\")\n",
    "                                and \"val\" in bprop\n",
    "                            ):\n",
    "                                r[\"namespace\"].append(bprop[\"val\"])\n",
    "\n",
    "                            if (\n",
    "                                bprop[\"pred\"].endswith(\"hasAlternativeId\")\n",
    "                                and \"val\" in bprop\n",
    "                            ):\n",
    "                                r[\"alternative_ids\"].append(bprop[\"val\"])\n",
    "\n",
    "                            if bprop[\"pred\"].endswith(\"consider\") and \"val\" in bprop:\n",
    "                                r[\"alternative_ids\"].append(bprop[\"val\"])\n",
    "\n",
    "                    if \"definition\" in node[\"meta\"]:\n",
    "                        r[\"definition\"] = (\n",
    "                            node[\"meta\"][\"definition\"][\"val\"]\n",
    "                            if \"val\" in node[\"meta\"][\"definition\"]\n",
    "                            else \"\"\n",
    "                        )\n",
    "\n",
    "                    if \"deprecated\" in node[\"meta\"]:\n",
    "                        r[\"deprecated\"] = node[\"meta\"][\"deprecated\"]\n",
    "\n",
    "                    if \"synonyms\" in node[\"meta\"]:\n",
    "                        for syn in node[\"meta\"][\"synonyms\"]:\n",
    "                            if \"val\" in syn:\n",
    "                                r[\"synonyms\"].append(syn[\"val\"])\n",
    "\n",
    "                            if \"xrefs\" in syn and len(syn[\"xrefs\"]) > 0:\n",
    "                                r[\"synonyms_xrefs\"].extend(syn[\"xrefs\"])\n",
    "\n",
    "                    if \"xrefs\" in node[\"meta\"]:\n",
    "                        for xref in node[\"meta\"][\"xrefs\"]:\n",
    "                            if \"val\" in xref:\n",
    "                                r[\"xrefs\"].append(xref[\"val\"])\n",
    "\n",
    "                all_node_ids.append(f\"{r['id']}\")\n",
    "\n",
    "                node_hashed = node_hash(f\"{source}_{version}_{r['id']}\")\n",
    "\n",
    "                nodes.append({\n",
    "                    \"id\": f\"{r['id']}\", \n",
    "                    \"name\": f\"{r['name']}\", \n",
    "                    \"definition\": json.loads(json.dumps(r['definition'])).replace('\"', \"\"),\n",
    "                    \"namespace\": list(np.unique(r['namespace'])), \n",
    "                    \"deprecated\": f\"{r['deprecated']}\", \n",
    "                    \"synonyms\": list(np.unique(r['synonyms'])), \n",
    "                    \"synonyms_xrefs\": list(np.unique(r['synonyms_xrefs'])),\n",
    "                    \"synonyms_str\": \"\", # convert_to_hex(\",\".join(r['synonyms'])),\n",
    "                    \"xrefs\": list(np.unique(r['xrefs'])), \n",
    "                    \"alternative_ids\": list(np.unique(r['alternative_ids'])),\n",
    "                    \"version\": f\"{version}\",\n",
    "                    \"source\": f\"{source}\",\n",
    "                    \"node_id\": node_hashed\n",
    "                })\n",
    "\n",
    "                source_rels.append({\"from\": node_hashed, \"to\": src_hashed, \"version\": f\"{source}_{version}\"})\n",
    "\n",
    "        all_node_idx = pd.Index(all_node_ids)\n",
    "        \n",
    "        for edge in graph[\"edges\"]:\n",
    "            n_from = (\n",
    "                edge[\"obj\"].split(\"/\")[-1].replace(\"_\", \":\")\n",
    "                if \"/\" in edge[\"obj\"]\n",
    "                else edge[\"obj\"].replace(\"_\", \":\")\n",
    "            )\n",
    "            n_to = (\n",
    "                edge[\"sub\"].split(\"/\")[-1].replace(\"_\", \":\")\n",
    "                if \"/\" in edge[\"sub\"]\n",
    "                else edge[\"sub\"].replace(\"_\", \":\")\n",
    "            )\n",
    "\n",
    "            if \"#\" in n_from or \"#\" in n_to or (not n_from in all_node_idx) or (not n_to in all_node_idx):\n",
    "                continue\n",
    "\n",
    "            from_hashed = node_hash(f\"{source}_{version}_{n_from}\")\n",
    "            to_hashed = node_hash(f\"{source}_{version}_{n_to}\")\n",
    "\n",
    "\n",
    "            child_rels.append({\"from\": from_hashed, \"to\": to_hashed, \"version\": f\"{source}_{version}\"})\n",
    "            parent_rels.append({\"from\": to_hashed, \"to\": from_hashed, \"version\": f\"{source}_{version}\"})\n",
    "\n",
    "    return sources, nodes, source_rels, parent_rels, child_rels"
   ]
  },
  {
   "cell_type": "code",
   "execution_count": 4,
   "id": "9a009058-7750-46f8-a295-5b3022ef0e13",
   "metadata": {},
   "outputs": [],
   "source": [
    "ontologies = [\n",
    "    (\"./kokoro/scripts/ontologies/EFO/v3.39.1.json\", \"Experimental Factor Ontology\", \"v3.39.1\"),\n",
    "    # (\"./kokoro/scripts/ontologies/UBERON/v2021-02-12.json\", \"UBERON\", \"v2021-02-12\"),\n",
    "    (\"./kokoro/scripts/ontologies/UBERON/v2022-02-21.json\", \"UBERON\", \"v2022-02-21\"),\n",
    "    # (\"./kokoro/scripts/ontologies/CL/v2021-06-21.json\", \"Cell Ontology\", \"v2021-06-21\"),\n",
    "    # (\"./kokoro/scripts/ontologies/CL/v2022-02-16.json\", \"Cell Ontology\", \"v2022-02-16\"),\n",
    "    # (\"./kokoro/scripts/ontologies/DOID/v2021--6-08.json\", \"Human Disease Ontology\", \"v2021--6-08\"),\n",
    "    (\"./kokoro/scripts/ontologies/DOID/v2022-03-02.json\", \"Human Disease Ontology\", \"v2022-03-02\"),\n",
    "    (\"./kokoro/scripts/ontologies/MONDO/v2022-03-01.json\", \"Mondo Disease Ontology\", \"v2022-03-01\"),\n",
    "    (\"./kokoro/scripts/ontologies/CL/v2023-04-20.json\", \"Cell Ontology\", \"v2023-04-20\")\n",
    "]"
   ]
  },
  {
   "cell_type": "code",
   "execution_count": 5,
   "id": "f90b0c38-7227-49ed-98f4-4dd0dee71d3e",
   "metadata": {},
   "outputs": [],
   "source": [
    "sources = []\n",
    "nodes = []\n",
    "source_rels = []\n",
    "child_rels = []\n",
    "parent_rels = []\n",
    "\n",
    "for ontfile in ontologies:\n",
    "    res = parse_ontology(*ontfile)\n",
    "    sources.extend(res[0])\n",
    "    nodes.extend(res[1])\n",
    "    source_rels.extend(res[2])\n",
    "    child_rels.extend(res[3])\n",
    "    parent_rels.extend(res[4])"
   ]
  },
  {
   "cell_type": "code",
   "execution_count": 6,
   "id": "bc297493-9141-4fd0-a89b-0eaa77a5a519",
   "metadata": {},
   "outputs": [],
   "source": [
    "pd.DataFrame.from_records(sources, index=None).to_csv(\"sources.csv\", header=False, index=False)\n",
    "pd.DataFrame.from_records(nodes, index=None).drop_duplicates(\"node_id\").to_csv(\"nodes.csv\", header=False, index=False)\n",
    "pd.DataFrame.from_records(source_rels, index=None).to_csv(\"source_rels.csv\", header=False, index=False)\n",
    "pd.DataFrame.from_records(parent_rels, index=None).to_csv(\"parent_rels.csv\", header=False, index=False)\n",
    "pd.DataFrame.from_records(child_rels, index=None).to_csv(\"child_rels.csv\", header=False, index=False)"
   ]
  },
  {
   "cell_type": "code",
   "execution_count": 7,
   "id": "81585a44-9490-4f4c-8450-bbc21ed92277",
   "metadata": {},
   "outputs": [],
   "source": [
    "def build_table(conn):\n",
    "    # create node tables\n",
    "    conn.execute(\"CREATE NODE TABLE OntoSource(name STRING, version STRING, node_id STRING, PRIMARY KEY (node_id))\")\n",
    "    conn.execute(\"\"\"\n",
    "        CREATE NODE TABLE OntoTerm(id STRING, name STRING, definition STRING, \n",
    "        namespace STRING[], deprecated BOOLEAN, synonyms STRING[], \n",
    "        synonyms_xrefs STRING[], synonyms_str STRING, xrefs STRING[], alternative_ids STRING[], \n",
    "        version STRING, source STRING, node_id STRING,\n",
    "        PRIMARY KEY (node_id))\n",
    "    \"\"\")\n",
    "    conn.execute(\"CREATE REL TABLE source(FROM OntoTerm TO OntoSource, version STRING)\")\n",
    "    conn.execute(\"CREATE REL TABLE child(FROM OntoTerm TO OntoTerm, version STRING)\")\n",
    "    conn.execute(\"CREATE REL TABLE parent(FROM OntoTerm TO OntoTerm, version STRING)\")"
   ]
  },
  {
   "cell_type": "code",
   "execution_count": 8,
   "id": "d88cdb74-4ab4-44a8-889e-ae1466b4930e",
   "metadata": {},
   "outputs": [],
   "source": [
    "# Import graph\n",
    "db_name = \"onto_schub\""
   ]
  },
  {
   "cell_type": "code",
   "execution_count": 9,
   "id": "3edc9883-39bd-4eeb-942a-6ec503a25642",
   "metadata": {},
   "outputs": [],
   "source": [
    "import shutil\n",
    "shutil.rmtree(f'./{db_name}', ignore_errors=True)"
   ]
  },
  {
   "cell_type": "code",
   "execution_count": 10,
   "id": "6152b3ca-5ee6-42bd-b6d3-bc37269c5fbe",
   "metadata": {},
   "outputs": [],
   "source": [
    "db = kuzu.Database(f'./{db_name}', buffer_pool_size=1024**3)\n",
    "conn = kuzu.Connection(db)"
   ]
  },
  {
   "cell_type": "code",
   "execution_count": 11,
   "id": "a36e1e62-596e-444c-8c83-eab7680b7c3e",
   "metadata": {},
   "outputs": [],
   "source": [
    "build_table(conn)"
   ]
  },
  {
   "cell_type": "code",
   "execution_count": 12,
   "id": "3c4cc6e9-fbd7-41c3-a238-b2b06f77b788",
   "metadata": {},
   "outputs": [
    {
     "data": {
      "text/plain": [
       "<kuzu.query_result.QueryResult at 0x2aab12745f70>"
      ]
     },
     "execution_count": 12,
     "metadata": {},
     "output_type": "execute_result"
    }
   ],
   "source": [
    "conn.execute('COPY OntoSource FROM \"sources.csv\";')\n",
    "conn.execute('COPY OntoTerm FROM \"nodes.csv\";')\n",
    "conn.execute('COPY source FROM \"source_rels.csv\";')\n",
    "conn.execute('COPY child FROM \"child_rels.csv\";')\n",
    "conn.execute('COPY parent FROM \"parent_rels.csv\";')"
   ]
  }
 ],
 "metadata": {
  "kernelspec": {
   "display_name": "Dev/GPy39",
   "language": "python",
   "name": "gpy39-dev"
  },
  "language_info": {
   "codemirror_mode": {
    "name": "ipython",
    "version": 3
   },
   "file_extension": ".py",
   "mimetype": "text/x-python",
   "name": "python",
   "nbconvert_exporter": "python",
   "pygments_lexer": "ipython3",
   "version": "3.9.15"
  }
 },
 "nbformat": 4,
 "nbformat_minor": 5
}
